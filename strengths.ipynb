{
  "nbformat": 4,
  "nbformat_minor": 0,
  "metadata": {
    "colab": {
      "name": "strengths.ipynb",
      "provenance": [],
      "authorship_tag": "ABX9TyMDcxetLVJHQEU49blSRzlT",
      "include_colab_link": true
    },
    "kernelspec": {
      "name": "python3",
      "display_name": "Python 3"
    }
  },
  "cells": [
    {
      "cell_type": "markdown",
      "metadata": {
        "id": "view-in-github",
        "colab_type": "text"
      },
      "source": [
        "<a href=\"https://colab.research.google.com/github/g00u00/colab/blob/main/strengths.ipynb\" target=\"_parent\"><img src=\"https://colab.research.google.com/assets/colab-badge.svg\" alt=\"Open In Colab\"/></a>"
      ]
    },
    {
      "cell_type": "code",
      "metadata": {
        "id": "pjkyLC5OxZ5i"
      },
      "source": [
        ""
      ],
      "execution_count": null,
      "outputs": []
    },
    {
      "cell_type": "code",
      "metadata": {
        "colab": {
          "base_uri": "https://localhost:8080/"
        },
        "id": "mAr_pUzpxmfu",
        "outputId": "2738099d-1cf2-4d8c-85de-3b5821a721e0"
      },
      "source": [
        "#https://gspread.readthedocs.io/en/latest/api.html?highlight=DataFrame.from_records#models\r\n",
        "from google.colab import auth\r\n",
        "auth.authenticate_user()\r\n",
        "!pip install --upgrade gspread\r\n",
        "import gspread\r\n",
        "from google.colab import drive\r\n",
        "drive.mount('/content/drive')\r\n",
        "import os\r\n",
        "print(os.getcwd())\r\n",
        "print(os.listdir('./'))\r\n",
        "print(os.listdir('/content/drive'))\r\n",
        "from oauth2client.client import GoogleCredentials\r\n",
        "%ll -lAF /content/drive/MyDrive/\"Colab Notebooks\"/matplot_bar/\r\n",
        "gs = gspread.authorize(GoogleCredentials.get_application_default())\r\n",
        "!rm /etc/localtime\r\n",
        "!ln -fs /usr/share/zoneinfo/Europe/Moscow /etc/localtime\r\n",
        "!date"
      ],
      "execution_count": null,
      "outputs": [
        {
          "output_type": "stream",
          "text": [
            "Collecting gspread\n",
            "  Downloading https://files.pythonhosted.org/packages/df/f0/e345e7159c89b898f183cc40ed9909619475492bb000652d709f395f096a/gspread-3.7.0-py3-none-any.whl\n",
            "Requirement already satisfied, skipping upgrade: google-auth-oauthlib>=0.4.1 in /usr/local/lib/python3.7/dist-packages (from gspread) (0.4.3)\n",
            "Requirement already satisfied, skipping upgrade: google-auth>=1.12.0 in /usr/local/lib/python3.7/dist-packages (from gspread) (1.27.1)\n",
            "Requirement already satisfied, skipping upgrade: requests-oauthlib>=0.7.0 in /usr/local/lib/python3.7/dist-packages (from google-auth-oauthlib>=0.4.1->gspread) (1.3.0)\n",
            "Requirement already satisfied, skipping upgrade: setuptools>=40.3.0 in /usr/local/lib/python3.7/dist-packages (from google-auth>=1.12.0->gspread) (54.0.0)\n",
            "Requirement already satisfied, skipping upgrade: six>=1.9.0 in /usr/local/lib/python3.7/dist-packages (from google-auth>=1.12.0->gspread) (1.15.0)\n",
            "Requirement already satisfied, skipping upgrade: rsa<5,>=3.1.4; python_version >= \"3.6\" in /usr/local/lib/python3.7/dist-packages (from google-auth>=1.12.0->gspread) (4.7.2)\n",
            "Requirement already satisfied, skipping upgrade: cachetools<5.0,>=2.0.0 in /usr/local/lib/python3.7/dist-packages (from google-auth>=1.12.0->gspread) (4.2.1)\n",
            "Requirement already satisfied, skipping upgrade: pyasn1-modules>=0.2.1 in /usr/local/lib/python3.7/dist-packages (from google-auth>=1.12.0->gspread) (0.2.8)\n",
            "Requirement already satisfied, skipping upgrade: requests>=2.0.0 in /usr/local/lib/python3.7/dist-packages (from requests-oauthlib>=0.7.0->google-auth-oauthlib>=0.4.1->gspread) (2.23.0)\n",
            "Requirement already satisfied, skipping upgrade: oauthlib>=3.0.0 in /usr/local/lib/python3.7/dist-packages (from requests-oauthlib>=0.7.0->google-auth-oauthlib>=0.4.1->gspread) (3.1.0)\n",
            "Requirement already satisfied, skipping upgrade: pyasn1>=0.1.3 in /usr/local/lib/python3.7/dist-packages (from rsa<5,>=3.1.4; python_version >= \"3.6\"->google-auth>=1.12.0->gspread) (0.4.8)\n",
            "Requirement already satisfied, skipping upgrade: idna<3,>=2.5 in /usr/local/lib/python3.7/dist-packages (from requests>=2.0.0->requests-oauthlib>=0.7.0->google-auth-oauthlib>=0.4.1->gspread) (2.10)\n",
            "Requirement already satisfied, skipping upgrade: chardet<4,>=3.0.2 in /usr/local/lib/python3.7/dist-packages (from requests>=2.0.0->requests-oauthlib>=0.7.0->google-auth-oauthlib>=0.4.1->gspread) (3.0.4)\n",
            "Requirement already satisfied, skipping upgrade: certifi>=2017.4.17 in /usr/local/lib/python3.7/dist-packages (from requests>=2.0.0->requests-oauthlib>=0.7.0->google-auth-oauthlib>=0.4.1->gspread) (2020.12.5)\n",
            "Requirement already satisfied, skipping upgrade: urllib3!=1.25.0,!=1.25.1,<1.26,>=1.21.1 in /usr/local/lib/python3.7/dist-packages (from requests>=2.0.0->requests-oauthlib>=0.7.0->google-auth-oauthlib>=0.4.1->gspread) (1.24.3)\n",
            "Installing collected packages: gspread\n",
            "  Found existing installation: gspread 3.0.1\n",
            "    Uninstalling gspread-3.0.1:\n",
            "      Successfully uninstalled gspread-3.0.1\n",
            "Successfully installed gspread-3.7.0\n",
            "Mounted at /content/drive\n",
            "/content\n",
            "['.config', 'drive', 'adc.json', 'sample_data']\n",
            "['MyDrive', '.file-revisions-by-id', '.shortcut-targets-by-id', '.Trash']\n",
            "total 67\n",
            "-rw------- 1 root 15827 Feb 25 19:12 barchart.ipynb\n",
            "-rw------- 1 root 32429 Mar 13 18:39 matplot_bar.ipynb\n",
            "-rw------- 1 root 10331 Mar 13 19:10 matplot_bar_swot.png\n",
            "-rw------- 1 root  6736 Mar 13 19:12 strengths.ipynb\n",
            "-rw------- 1 root  1105 Mar 13 17:49 strengths.json\n",
            "-rw------- 1 root    92 Feb 28 11:42 swot_dictionary11.json\n",
            "Sat Mar 13 22:12:54 MSK 2021\n"
          ],
          "name": "stdout"
        }
      ]
    },
    {
      "cell_type": "code",
      "metadata": {
        "colab": {
          "base_uri": "https://localhost:8080/",
          "height": 566
        },
        "id": "ge-KSE6fybPt",
        "outputId": "dfa8cf93-1ad6-4d8f-d77e-82e931c52f4d"
      },
      "source": [
        "#!/usr/bin/env python3.4\r\n",
        "#https://matplotlib.org/2.0.2/api/pyplot_api.html?highlight=bar#matplotlib.pyplot.bar\r\n",
        "\r\n",
        "def matplot(x_ticks, y_float, x_lable, y_lable):\r\n",
        "    import matplotlib.pyplot as plt\r\n",
        "    x_pos=list()\r\n",
        "    for i in range(x_ticks.__len__()):\r\n",
        "        x_pos.append(i)\r\n",
        "    print('<!--разбивка по абсцисс и значения ординат\\n', len(x_ticks), x_pos, y_float, ' -->\\n')\r\n",
        "    #fig=plt.figure(figsize=(7,5), dpi=100)\r\n",
        "    #plt.bar(x_pos, y_float, alpha=0.6)\r\n",
        "    fig=plt.figure(figsize=(8,6), dpi=72)\r\n",
        "    plt.bar(x_pos, y_float, width=0.25, align='edge', alpha=0.4)\r\n",
        "    plt.title('', fontsize=14)\r\n",
        "    plt.xticks(x_pos,  fontsize=14)\r\n",
        "    plt.xlabel(x_lable, fontsize=14)\r\n",
        "    plt.ylabel(y_lable, fontsize=14)\r\n",
        "    plt.grid(True)\r\n",
        "    plt.show()\r\n",
        "    fig.show()\r\n",
        "    #plt.draw()\r\n",
        "    fig.savefig(\"/content/drive/MyDrive/Colab Notebooks/matplot_bar/matplot_bar_swot.png\")\r\n",
        "    for i in range(x_ticks.__len__()):\r\n",
        "        print(i, \" - \", x_ticks[i], \"; \")\r\n",
        "        i += 1\r\n",
        "\r\n",
        "if __name__ == \"__main__\":\r\n",
        "    import json\r\n",
        "    x_ticks=list()\r\n",
        "    y_float=list()\r\n",
        "\r\n",
        "    element = 'strengths'\r\n",
        "    read_file = open (\"/content/drive/MyDrive/Colab Notebooks/matplot_bar/\"+element+\".json\", mode='r', encoding=\"utf-8\")\r\n",
        "    i=0\r\n",
        "    for line in read_file.readlines():\r\n",
        "        i+=1\r\n",
        "        data = json.loads(line)\r\n",
        "        x_ticks.append(data['name'])\r\n",
        "        y_tmp = (float(data['importance'])*float(data['probability']))\r\n",
        "        y_float.append(float(y_tmp))\r\n",
        "    read_file.close()\r\n",
        "    \r\n",
        "    print(x_ticks,y_float)\r\n",
        "    x_lable = 'Обозначения'\r\n",
        "    y_lable = 'Мощность воздействия'\r\n",
        "    print (x_lable, y_lable)\r\n",
        "    matplot(x_ticks, y_float, x_lable, y_lable)\r\n",
        "    !date\r\n"
      ],
      "execution_count": null,
      "outputs": [
        {
          "output_type": "stream",
          "text": [
            "['Минимизация налогов', 'Возможность получение прибыли', 'Выполнения качественного татуажа', 'Высокая масштабируемость'] [2.0, 4.5, 9.0, 2.0]\n",
            "Обозначения Мощность воздействия\n",
            "<!--разбивка по абсцисс и значения ординат\n",
            " 4 [0, 1, 2, 3] [2.0, 4.5, 9.0, 2.0]  -->\n",
            "\n"
          ],
          "name": "stdout"
        },
        {
          "output_type": "display_data",
          "data": {
            "image/png": "[encoded data removed]",
            "text/plain": [
              "<Figure size 576x432 with 1 Axes>"
            ]
          },
          "metadata": {
            "tags": [],
            "needs_background": "light"
          }
        },
        {
          "output_type": "stream",
          "text": [
            "0  -  Минимизация налогов ; \n",
            "1  -  Возможность получение прибыли ; \n",
            "2  -  Выполнения качественного татуажа ; \n",
            "3  -  Высокая масштабируемость ; \n",
            "Sat Mar 13 22:12:55 MSK 2021\n"
          ],
          "name": "stdout"
        }
      ]
    }
  ]
}