{
  "nbformat": 4,
  "nbformat_minor": 0,
  "metadata": {
    "colab": {
      "name": "testint.ipynb",
      "provenance": [],
      "mount_file_id": "1y6St5YvWC3aEVVkoBCahMw6aGkf-vzwh",
      "authorship_tag": "ABX9TyOKLhck9VOJBQ6a1IP2/zHh",
      "include_colab_link": true
    },
    "kernelspec": {
      "name": "python3",
      "display_name": "Python 3"
    }
  },
  "cells": [
    {
      "cell_type": "markdown",
      "metadata": {
        "id": "view-in-github",
        "colab_type": "text"
      },
      "source": [
        "<a href=\"https://colab.research.google.com/github/g00u00/colab/blob/main/testint.ipynb\" target=\"_parent\"><img src=\"https://colab.research.google.com/assets/colab-badge.svg\" alt=\"Open In Colab\"/></a>"
      ]
    },
    {
      "cell_type": "code",
      "metadata": {
        "id": "YajPc8ZQUcZY"
      },
      "source": [
        "%%shell\r\n",
        "ls -lAF\r\n",
        "pwd\r\n",
        "cat -E 1.txt\r\n",
        "cat >>1.txt\r\n",
        "\r\n",
        "\r\n"
      ],
      "execution_count": null,
      "outputs": []
    },
    {
      "cell_type": "code",
      "metadata": {
        "id": "enkgJYAwe4rN"
      },
      "source": [
        ""
      ],
      "execution_count": null,
      "outputs": []
    },
    {
      "cell_type": "code",
      "metadata": {
        "id": "qKIF_IcIeHjl"
      },
      "source": [
        "%%html\r\n",
        "<p><font color=\"red\">dslf</font>ksld</p><p>dslfksld</p>\r\n",
        "<p>\r\n",
        "<img src =\"https://drive.google.com/uc?id=1ZZX1NvDR4Iy6FBUyUWd7qHIP1vjZ4X-v\">\r\n",
        "</p>\r\n",
        "<p>\r\n",
        "<img src =\"https://drive.google.com/uc?id=1grqeA9hX_sEk0sQ68Mg7U1-vj4svzhF8\">\r\n",
        "</p>\r\n"
      ],
      "execution_count": null,
      "outputs": []
    }
  ]
}