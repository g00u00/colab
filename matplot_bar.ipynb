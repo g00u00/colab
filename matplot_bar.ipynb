{
  "nbformat": 4,
  "nbformat_minor": 0,
  "metadata": {
    "colab": {
      "name": "matplot_bar.ipynb",
      "provenance": [],
      "toc_visible": true,
      "authorship_tag": "ABX9TyOeoovF3HYWD1tD49z2FhPT",
      "include_colab_link": true
    },
    "kernelspec": {
      "name": "python3",
      "display_name": "Python 3"
    }
  },
  "cells": [
    {
      "cell_type": "markdown",
      "metadata": {
        "id": "view-in-github",
        "colab_type": "text"
      },
      "source": [
        "<a href=\"https://colab.research.google.com/github/g00u00/colab/blob/main/matplot_bar.ipynb\" target=\"_parent\"><img src=\"https://colab.research.google.com/assets/colab-badge.svg\" alt=\"Open In Colab\"/></a>"
      ]
    },
    {
      "cell_type": "markdown",
      "metadata": {
        "id": "v2GcUEUN9tt-"
      },
      "source": [
        "# Подготовка рабочего пространства"
      ]
    },
    {
      "cell_type": "code",
      "metadata": {
        "colab": {
          "base_uri": "https://localhost:8080/"
        },
        "id": "xPUBff959lxd",
        "outputId": "a5388a0a-5c56-4358-d80f-fc1fe6d562fe"
      },
      "source": [
        "#https://gspread.readthedocs.io/en/latest/api.html?highlight=DataFrame.from_records#models\r\n",
        "from google.colab import auth\r\n",
        "auth.authenticate_user()\r\n",
        "!pip install --upgrade gspread\r\n",
        "import gspread\r\n",
        "from google.colab import drive\r\n",
        "drive.mount('/content/drive')\r\n",
        "import os\r\n",
        "print(os.getcwd())\r\n",
        "print(os.listdir('./'))\r\n",
        "print(os.listdir('/content/drive'))\r\n",
        "from oauth2client.client import GoogleCredentials\r\n",
        "%ll -lAF /content/drive/MyDrive/\"Colab Notebooks\"/matplot_bar/\r\n",
        "gs = gspread.authorize(GoogleCredentials.get_application_default())\r\n",
        "!ln -fs /usr/share/zoneinfo/Europe/Moscow /etc/localtime\r\n",
        "!date"
      ],
      "execution_count": 1,
      "outputs": [
        {
          "output_type": "stream",
          "text": [
            "Requirement already up-to-date: gspread in /usr/local/lib/python3.7/dist-packages (3.7.0)\n",
            "Requirement already satisfied, skipping upgrade: google-auth-oauthlib>=0.4.1 in /usr/local/lib/python3.7/dist-packages (from gspread) (0.4.2)\n",
            "Requirement already satisfied, skipping upgrade: google-auth>=1.12.0 in /usr/local/lib/python3.7/dist-packages (from gspread) (1.27.0)\n",
            "Requirement already satisfied, skipping upgrade: requests-oauthlib>=0.7.0 in /usr/local/lib/python3.7/dist-packages (from google-auth-oauthlib>=0.4.1->gspread) (1.3.0)\n",
            "Requirement already satisfied, skipping upgrade: rsa<5,>=3.1.4; python_version >= \"3.6\" in /usr/local/lib/python3.7/dist-packages (from google-auth>=1.12.0->gspread) (4.7.1)\n",
            "Requirement already satisfied, skipping upgrade: six>=1.9.0 in /usr/local/lib/python3.7/dist-packages (from google-auth>=1.12.0->gspread) (1.15.0)\n",
            "Requirement already satisfied, skipping upgrade: pyasn1-modules>=0.2.1 in /usr/local/lib/python3.7/dist-packages (from google-auth>=1.12.0->gspread) (0.2.8)\n",
            "Requirement already satisfied, skipping upgrade: cachetools<5.0,>=2.0.0 in /usr/local/lib/python3.7/dist-packages (from google-auth>=1.12.0->gspread) (4.2.1)\n",
            "Requirement already satisfied, skipping upgrade: setuptools>=40.3.0 in /usr/local/lib/python3.7/dist-packages (from google-auth>=1.12.0->gspread) (53.0.0)\n",
            "Requirement already satisfied, skipping upgrade: oauthlib>=3.0.0 in /usr/local/lib/python3.7/dist-packages (from requests-oauthlib>=0.7.0->google-auth-oauthlib>=0.4.1->gspread) (3.1.0)\n",
            "Requirement already satisfied, skipping upgrade: requests>=2.0.0 in /usr/local/lib/python3.7/dist-packages (from requests-oauthlib>=0.7.0->google-auth-oauthlib>=0.4.1->gspread) (2.23.0)\n",
            "Requirement already satisfied, skipping upgrade: pyasn1>=0.1.3 in /usr/local/lib/python3.7/dist-packages (from rsa<5,>=3.1.4; python_version >= \"3.6\"->google-auth>=1.12.0->gspread) (0.4.8)\n",
            "Requirement already satisfied, skipping upgrade: idna<3,>=2.5 in /usr/local/lib/python3.7/dist-packages (from requests>=2.0.0->requests-oauthlib>=0.7.0->google-auth-oauthlib>=0.4.1->gspread) (2.10)\n",
            "Requirement already satisfied, skipping upgrade: urllib3!=1.25.0,!=1.25.1,<1.26,>=1.21.1 in /usr/local/lib/python3.7/dist-packages (from requests>=2.0.0->requests-oauthlib>=0.7.0->google-auth-oauthlib>=0.4.1->gspread) (1.24.3)\n",
            "Requirement already satisfied, skipping upgrade: chardet<4,>=3.0.2 in /usr/local/lib/python3.7/dist-packages (from requests>=2.0.0->requests-oauthlib>=0.7.0->google-auth-oauthlib>=0.4.1->gspread) (3.0.4)\n",
            "Requirement already satisfied, skipping upgrade: certifi>=2017.4.17 in /usr/local/lib/python3.7/dist-packages (from requests>=2.0.0->requests-oauthlib>=0.7.0->google-auth-oauthlib>=0.4.1->gspread) (2020.12.5)\n",
            "Drive already mounted at /content/drive; to attempt to forcibly remount, call drive.mount(\"/content/drive\", force_remount=True).\n",
            "/content\n",
            "['.config', 'drive', 'adc.json', 'sample_data']\n",
            "['MyDrive', '.shortcut-targets-by-id', '.file-revisions-by-id', '.Trash']\n",
            "total 60\n",
            "-rw------- 1 root 15827 Feb 25 22:12 barchart.ipynb\n",
            "-rw------- 1 root 30414 Feb 26 16:43 matplot_bar.ipynb\n",
            "-rw------- 1 root 13785 Feb 26 16:43 matplot_bar_swot.png\n",
            "-rw------- 1 root   110 Feb 26 16:28 swot_dictionary11.json\n",
            "Fri Feb 26 16:43:40 MSK 2021\n"
          ],
          "name": "stdout"
        }
      ]
    },
    {
      "cell_type": "code",
      "metadata": {
        "colab": {
          "base_uri": "https://localhost:8080/",
          "height": 931
        },
        "id": "iQvgWEGc1hwd",
        "outputId": "7ebc1b2f-5b63-40bd-abdc-4c032b30bc72"
      },
      "source": [
        "#!/usr/bin/env python3.4\r\n",
        "'''\\\r\n",
        "https://ru.wikipedia.org/wiki/Matplotlib\r\n",
        "https://github.com/rougier/matplotlib-tutorial\r\n",
        "http://people.duke.edu/~ccc14/pcfb/numpympl/MatplotlibBarPlots.html\r\n",
        "https://eax.me/python-matplotlib/\r\n",
        "https://matplotlib.org/\r\n",
        "https://matplotlib.org/api/pyplot_api.html#matplotlib.pyplot.plot\r\n",
        "https://matplotlib.org/users/index_text.html\r\n",
        "https://docs.scipy.org/doc/numpy-dev/user/quickstart.html\r\n",
        "'''\r\n",
        "#import matplotlib\r\n",
        "#matplotlib.use('Agg')\r\n",
        "#import matplotlib.pyplot as plt\r\n",
        "import json\r\n",
        "\r\n",
        "def matplot(element):\r\n",
        "    import matplotlib.pyplot as plt\r\n",
        "    x=list()\r\n",
        "    x_float=list()\r\n",
        "    title=list()\r\n",
        "    y_float=list()\r\n",
        "    \r\n",
        "    print('\\n<!!--matplot_data')\r\n",
        "    \r\n",
        "    read_file = open (\"/content/drive/MyDrive/Colab Notebooks/matplot_bar/swot_dictionary11.json\", mode='r', encoding=\"utf-8\")\r\n",
        "    i=0\r\n",
        "    !date\r\n",
        "    for line in read_file.readlines():\r\n",
        "        print('\\n<br>1', line, end=\"\")\r\n",
        "        i+=1\r\n",
        "        data = json.loads(line)\r\n",
        "        print('\\n<br>', data, end=\"\")\r\n",
        "        print('\\n<br>')\r\n",
        "        title = [ \"strengths\", \"weaknesses\", \"opportunities\", \"threats\", \"result\"]\r\n",
        "        x=title\r\n",
        "        x_float = [1, 2, 3, 4, 5]\r\n",
        "        #title.append(data['name'])\r\n",
        "        result = float(data['strengths']) - 1*float(data['weaknesses']) + float(data['opportunities']) - 1*float(data['threats'])\r\n",
        "        y = [float(data['strengths']), float(data['weaknesses']), float(data['opportunities']), float(data['threats'])]\r\n",
        "        y_float = [float(data['strengths']), -1*float(data['weaknesses']), float(data['opportunities']), -1*float(data['threats']),  result]\r\n",
        "        print(x_float,title,y_float)\r\n",
        "    print('списки формированы-->\\n')\r\n",
        "    read_file.close()\r\n",
        "    x_pos=list()\r\n",
        "    for i in range(x_float.__len__()):\r\n",
        "        x_pos.append(i)\r\n",
        "    print('<!--разбивка по абсцисс и значения ординат\\n', len( x_float), x_pos, y_float, ' -->\\n')\r\n",
        "\r\n",
        "    fig=plt.figure(figsize=(4,5), dpi=100)\r\n",
        "    plt.bar(x_pos, y_float, width=0.75, align='edge', alpha=0.4)\r\n",
        "    plt.xticks(x_pos,  x_float, fontsize=14)\r\n",
        "    plt.xlabel('Обозначения1', fontsize=14)\r\n",
        "    plt.ylabel('Мощность воздействия', fontsize=14)\r\n",
        "    plt.title('SWOT', fontsize=14)\r\n",
        "    plt.grid(True, color='r', linestyle='-', linewidth=2)\r\n",
        "    #plt.draw()\r\n",
        "    plt.show()\r\n",
        "    fig.savefig(\"/content/drive/MyDrive/Colab Notebooks/matplot_bar/matplot_bar_swot.png\")\r\n",
        "    print('<div class=\"d-flex flex-row \">')\r\n",
        "    print('<div class=\"card m-1\" style=\"width: 28rem;\">',\r\n",
        "          '<img  src=\"/content/drive/MyDrive/Colab Notebooks/matplot_bar//matplot_bar_swot.png\" class=\"card-img-top\" alt=\"...\">',\r\n",
        "          '<div class=\"card-body\">')\r\n",
        "    \r\n",
        "    for i in range(title.__len__()):\r\n",
        "        print(i+1, \" - \", title[i], \"; \")\r\n",
        "        i += 1\r\n",
        "    print('</div>', '</div>')\r\n",
        "    print('<div>')\r\n",
        "    !date\r\n",
        "    \r\n",
        "\r\n",
        "def  to_browser():\r\n",
        "    print(\"Content-type:text/html\\r\\n\")\r\n",
        "    print('\\n',\r\n",
        "    '\\n<html>\\n<head>\\n<title>SWOT</title>\\n<meta charset=\"UTF-8\">',\r\n",
        "    '\\n<meta name=\"viewport\" content=\"width=device-width, initial-scale=1.0\">',\r\n",
        "    '\\n<meta http-equiv=\"X-UA-Compatible\" content=\"ie=edge\">',\r\n",
        "    '\\n<link rel=\"stylesheet\" href=\"https://maxcdn.bootstrapcdn.com/bootstrap/4.0.0-beta/css/bootstrap.min.css\" integrity=\"sha384-/Y6pD6FV/Vv2HJnA6t+vslU6fwYXjCFtcEpHbNJ0lyAFsXTsjBbfaDjzALeQsN6M\" crossorigin=\"anonymous\">',\r\n",
        "    '\\n</head>',\r\n",
        "    '\\n<body>',\r\n",
        "    '\\n<div class=\"container-md mx-3\">'\r\n",
        "    )\r\n",
        "\r\n",
        "if __name__ == \"__main__\":\r\n",
        "    #to_browser()\r\n",
        "    element = 'swot_dictionary'\r\n",
        "    matplot(element)\r\n",
        "    #print(\"</div></body></html>\",)\r\n",
        "    !date\r\n"
      ],
      "execution_count": 4,
      "outputs": [
        {
          "output_type": "stream",
          "text": [
            "\n",
            "<!!--matplot_data\n",
            "Fri Feb 26 16:44:47 MSK 2021\n",
            "\n",
            "<br>1 {\"weaknesses\": 3.8499999999999996, \"opportunities\": 140.0, \"strengths\": 100.0, \"threats\": 20.189999999999998}\n",
            "\n",
            "<br> {'weaknesses': 3.8499999999999996, 'opportunities': 140.0, 'strengths': 100.0, 'threats': 20.189999999999998}\n",
            "<br>\n",
            "[1, 2, 3, 4, 5] ['strengths', 'weaknesses', 'opportunities', 'threats', 'result'] [100.0, -3.8499999999999996, 140.0, -20.189999999999998, 215.96]\n",
            "списки формированы-->\n",
            "\n",
            "<!--разбивка по абсцисс и значения ординат\n",
            " 5 [0, 1, 2, 3, 4] [100.0, -3.8499999999999996, 140.0, -20.189999999999998, 215.96]  -->\n",
            "\n"
          ],
          "name": "stdout"
        },
        {
          "output_type": "display_data",
          "data": {
            "image/png": "[encoded data removed]",
            "text/plain": [
              "<Figure size 400x500 with 1 Axes>"
            ]
          },
          "metadata": {
            "tags": [],
            "needs_background": "light"
          }
        },
        {
          "output_type": "stream",
          "text": [
            "<div class=\"d-flex flex-row \">\n",
            "<div class=\"card m-1\" style=\"width: 28rem;\"> <img  src=\"/content/drive/MyDrive/Colab Notebooks/matplot_bar//matplot_bar_swot.png\" class=\"card-img-top\" alt=\"...\"> <div class=\"card-body\">\n",
            "1  -  strengths ; \n",
            "2  -  weaknesses ; \n",
            "3  -  opportunities ; \n",
            "4  -  threats ; \n",
            "5  -  result ; \n",
            "</div> </div>\n",
            "<div>\n",
            "Fri Feb 26 16:44:47 MSK 2021\n",
            "Fri Feb 26 16:44:47 MSK 2021\n"
          ],
          "name": "stdout"
        }
      ]
    },
    {
      "cell_type": "code",
      "metadata": {
        "colab": {
          "base_uri": "https://localhost:8080/"
        },
        "id": "t3y6UTO5Hc69",
        "outputId": "1548cb54-2d06-4091-aede-98dc43a02bac"
      },
      "source": [
        "data = {\"opportunities\": 14.0, \"threats\": 20.189999999999998, \"strengths\": 17.5, \"weaknesses\": 3.8}\r\n",
        "print(data)\r\n",
        "print (data.keys())\r\n",
        "dir(data)\r\n",
        "title=list()\r\n",
        "x_float = list()\r\n",
        "y = list()\r\n",
        "i=1\r\n",
        "for key in data.keys():\r\n",
        "  print(key, data[key])\r\n",
        "  x_float.append(i)\r\n",
        "  title.append(key)\r\n",
        "  y.append(data[key])\r\n",
        "  i+=1\r\n",
        "print(x_float)\r\n",
        "print(title)\r\n",
        "print(y)\r\n",
        "\r\n",
        "\r\n"
      ],
      "execution_count": 3,
      "outputs": [
        {
          "output_type": "stream",
          "text": [
            "{'opportunities': 14.0, 'threats': 20.189999999999998, 'strengths': 17.5, 'weaknesses': 3.8}\n",
            "dict_keys(['opportunities', 'threats', 'strengths', 'weaknesses'])\n",
            "opportunities 14.0\n",
            "threats 20.189999999999998\n",
            "strengths 17.5\n",
            "weaknesses 3.8\n",
            "[1, 2, 3, 4]\n",
            "['opportunities', 'threats', 'strengths', 'weaknesses']\n",
            "[14.0, 20.189999999999998, 17.5, 3.8]\n"
          ],
          "name": "stdout"
        }
      ]
    },
    {
      "cell_type": "code",
      "metadata": {
        "id": "XB_Z37JqUINb"
      },
      "source": [
        ""
      ],
      "execution_count": 3,
      "outputs": []
    },
    {
      "cell_type": "code",
      "metadata": {
        "id": "wdcNZ6dAUN6B"
      },
      "source": [
        ""
      ],
      "execution_count": 3,
      "outputs": []
    }
  ]
}