{
  "nbformat": 4,
  "nbformat_minor": 0,
  "metadata": {
    "colab": {
      "name": "table_test.ipynb",
      "provenance": [],
      "mount_file_id": "1HUyvCC7R07c_SgK2XWqOrB4jRKu38jCx",
      "authorship_tag": "ABX9TyP4aAFnXcHXCs4gU9aoXXWN",
      "include_colab_link": true
    },
    "kernelspec": {
      "name": "python3",
      "display_name": "Python 3"
    }
  },
  "cells": [
    {
      "cell_type": "markdown",
      "metadata": {
        "id": "view-in-github",
        "colab_type": "text"
      },
      "source": [
        "<a href=\"https://colab.research.google.com/github/g00u00/colab/blob/main/table_test.ipynb\" target=\"_parent\"><img src=\"https://colab.research.google.com/assets/colab-badge.svg\" alt=\"Open In Colab\"/></a>"
      ]
    },
    {
      "cell_type": "markdown",
      "metadata": {
        "id": "OKuy_cZpnMYF"
      },
      "source": [
        "# Работа с таблицами"
      ]
    },
    {
      "cell_type": "markdown",
      "metadata": {
        "id": "lblIqpo3mUG_"
      },
      "source": [
        "\r\n",
        "## Аутентификация, gspread, монтирование диска, авторизация,  установка временной зоны, текущая дата\r\n",
        "\r\n",
        "Используется\r\n",
        "\r\n",
        "https://gspread.readthedocs.io/en/latest/api.html?highlight=DataFrame.from_records#models\r\n",
        "\r\n"
      ]
    },
    {
      "cell_type": "code",
      "metadata": {
        "id": "mniwHOyd33Re",
        "colab": {
          "base_uri": "https://localhost:8080/"
        },
        "outputId": "81a33fd3-d75e-45ac-dd31-b0cd66669818"
      },
      "source": [
        "#https://gspread.readthedocs.io/en/latest/api.html?highlight=DataFrame.from_records#models\r\n",
        "from google.colab import auth\r\n",
        "auth.authenticate_user()\r\n",
        "!pip install --upgrade gspread\r\n",
        "import gspread\r\n",
        "from google.colab import drive\r\n",
        "drive.mount('/content/drive')\r\n",
        "from oauth2client.client import GoogleCredentials\r\n",
        "gs = gspread.authorize(GoogleCredentials.get_application_default())\r\n",
        "!ln -fs /usr/share/zoneinfo/Europe/Moscow /etc/localtime\r\n",
        "!date\r\n"
      ],
      "execution_count": 29,
      "outputs": [
        {
          "output_type": "stream",
          "text": [
            "Requirement already up-to-date: gspread in /usr/local/lib/python3.6/dist-packages (3.7.0)\n",
            "Requirement already satisfied, skipping upgrade: google-auth>=1.12.0 in /usr/local/lib/python3.6/dist-packages (from gspread) (1.25.0)\n",
            "Requirement already satisfied, skipping upgrade: google-auth-oauthlib>=0.4.1 in /usr/local/lib/python3.6/dist-packages (from gspread) (0.4.2)\n",
            "Requirement already satisfied, skipping upgrade: pyasn1-modules>=0.2.1 in /usr/local/lib/python3.6/dist-packages (from google-auth>=1.12.0->gspread) (0.2.8)\n",
            "Requirement already satisfied, skipping upgrade: setuptools>=40.3.0 in /usr/local/lib/python3.6/dist-packages (from google-auth>=1.12.0->gspread) (53.0.0)\n",
            "Requirement already satisfied, skipping upgrade: cachetools<5.0,>=2.0.0 in /usr/local/lib/python3.6/dist-packages (from google-auth>=1.12.0->gspread) (4.2.1)\n",
            "Requirement already satisfied, skipping upgrade: rsa<5,>=3.1.4; python_version >= \"3.6\" in /usr/local/lib/python3.6/dist-packages (from google-auth>=1.12.0->gspread) (4.7)\n",
            "Requirement already satisfied, skipping upgrade: six>=1.9.0 in /usr/local/lib/python3.6/dist-packages (from google-auth>=1.12.0->gspread) (1.15.0)\n",
            "Requirement already satisfied, skipping upgrade: requests-oauthlib>=0.7.0 in /usr/local/lib/python3.6/dist-packages (from google-auth-oauthlib>=0.4.1->gspread) (1.3.0)\n",
            "Requirement already satisfied, skipping upgrade: pyasn1<0.5.0,>=0.4.6 in /usr/local/lib/python3.6/dist-packages (from pyasn1-modules>=0.2.1->google-auth>=1.12.0->gspread) (0.4.8)\n",
            "Requirement already satisfied, skipping upgrade: oauthlib>=3.0.0 in /usr/local/lib/python3.6/dist-packages (from requests-oauthlib>=0.7.0->google-auth-oauthlib>=0.4.1->gspread) (3.1.0)\n",
            "Requirement already satisfied, skipping upgrade: requests>=2.0.0 in /usr/local/lib/python3.6/dist-packages (from requests-oauthlib>=0.7.0->google-auth-oauthlib>=0.4.1->gspread) (2.23.0)\n",
            "Requirement already satisfied, skipping upgrade: certifi>=2017.4.17 in /usr/local/lib/python3.6/dist-packages (from requests>=2.0.0->requests-oauthlib>=0.7.0->google-auth-oauthlib>=0.4.1->gspread) (2020.12.5)\n",
            "Requirement already satisfied, skipping upgrade: idna<3,>=2.5 in /usr/local/lib/python3.6/dist-packages (from requests>=2.0.0->requests-oauthlib>=0.7.0->google-auth-oauthlib>=0.4.1->gspread) (2.10)\n",
            "Requirement already satisfied, skipping upgrade: chardet<4,>=3.0.2 in /usr/local/lib/python3.6/dist-packages (from requests>=2.0.0->requests-oauthlib>=0.7.0->google-auth-oauthlib>=0.4.1->gspread) (3.0.4)\n",
            "Requirement already satisfied, skipping upgrade: urllib3!=1.25.0,!=1.25.1,<1.26,>=1.21.1 in /usr/local/lib/python3.6/dist-packages (from requests>=2.0.0->requests-oauthlib>=0.7.0->google-auth-oauthlib>=0.4.1->gspread) (1.24.3)\n",
            "Drive already mounted at /content/drive; to attempt to forcibly remount, call drive.mount(\"/content/drive\", force_remount=True).\n",
            "Tue Feb 23 20:58:51 MSK 2021\n"
          ],
          "name": "stdout"
        }
      ]
    },
    {
      "cell_type": "markdown",
      "metadata": {
        "id": "FGZNqTvDn_hD"
      },
      "source": [
        "## Файловая система, манипуляции с таблицей\r\n",
        "С использованием этой ячейке для контроля  отображаются файлы расположенные в папке /content/drive/MyDrive/\"Colab Notebooks\"/table_test/. \r\n",
        "\r\n",
        "https://docs.python.org/3/reference/compound_stmts.html#try используется для обработки исключкений  и ветвления при наличии/отсутствии таблицы\r\n",
        "\r\n",
        "В этой ячейке  используются следующие модули:\r\n",
        "*   os.stat(path, *, dir_fd=None, follow_symlinks=True)\r\n",
        "Get the status of a file or a file descriptor. Perform the equivalent of a stat() system call on the given path. path may be specified as either a string or bytes – directly or indirectly through the PathLike interface – or as an open file descriptor. Return a stat_result object.\r\n",
        "*\r\n",
        "*  \r\n",
        "*\r\n",
        "\r\n",
        "* dir(table) https://docs.python.org/3/library/functions.html#dir возвращает список имен в текущей локально области\r\n",
        "\r\n"
      ]
    },
    {
      "cell_type": "code",
      "metadata": {
        "colab": {
          "base_uri": "https://localhost:8080/"
        },
        "id": "qsfLyvywGntl",
        "outputId": "1bec4d2d-12f3-45b5-8226-3a7c395432a9"
      },
      "source": [
        "import os\r\n",
        "import time\r\n",
        "print('\\nРаботаем с таблицей')\r\n",
        "%ll -lAF /content/drive/MyDrive/\"Colab Notebooks\"/table_test/\r\n",
        "try:\r\n",
        "  os.stat('/content/drive/MyDrive/Colab Notebooks/table_test/table_01.gsheet')\r\n",
        "  table = gs.open_by_key('11YLifw8OX3_k5ZLGDWfDwYva3YBj1-bqjEhivU4CBT4')\r\n",
        "except Exception as mistake:\r\n",
        "    print('\\n',mistake)\r\n",
        "    print(\"Необходимо создать таблицу\\n\")\r\n",
        "    #%rm -r /content/drive/MyDrive/table_01.gsheet1\r\n",
        "    %ll -lAF /content/drive/MyDrive/\r\n",
        "    gs_01 = gs.create('table_01')\r\n",
        "    time.sleep(30)\r\n",
        "    %ll -lAF /content/drive/MyDrive/\r\n",
        "    print(gs_01)\r\n",
        "    print (gs_01.id)\r\n",
        "    print(dir(gs_01))\r\n",
        "    %ll -lAF /content/drive/MyDrive/\"Colab Notebooks\"/table_test\r\n",
        "    %mv  /content/drive/MyDrive/table_01.gsheet /content/drive/MyDrive/\"Colab Notebooks\"/table_test/\r\n",
        "    %ll -lAF /content/drive/MyDrive/\"Colab Notebooks\"/table_test/\r\n",
        "print(dir(table))\r\n",
        "\r\n"
      ],
      "execution_count": 30,
      "outputs": [
        {
          "output_type": "stream",
          "text": [
            "\n",
            "Работаем с таблицей\n",
            "total 17\n",
            "drwx------ 2 root  4096 Feb 20 18:22 \u001b[0m\u001b[01;34m.ipynb_checkpoints\u001b[0m/\n",
            "-rw------- 1 root   151 Feb 23 20:42 table_01.gsheet\n",
            "-rw------- 1 root 12094 Feb 23 20:58 table_test.ipynb\n",
            "['__class__', '__delattr__', '__dict__', '__dir__', '__doc__', '__eq__', '__format__', '__ge__', '__getattribute__', '__gt__', '__hash__', '__init__', '__init_subclass__', '__iter__', '__le__', '__lt__', '__module__', '__ne__', '__new__', '__reduce__', '__reduce_ex__', '__repr__', '__setattr__', '__sizeof__', '__str__', '__subclasshook__', '__weakref__', '_properties', '_spreadsheets_get', '_spreadsheets_sheets_copy_to', 'add_worksheet', 'batch_update', 'client', 'del_worksheet', 'duplicate_sheet', 'fetch_sheet_metadata', 'get_worksheet', 'id', 'list_permissions', 'remove_permissions', 'reorder_worksheets', 'share', 'sheet1', 'title', 'updated', 'url', 'values_append', 'values_batch_get', 'values_batch_update', 'values_clear', 'values_get', 'values_update', 'worksheet', 'worksheets']\n"
          ],
          "name": "stdout"
        }
      ]
    },
    {
      "cell_type": "markdown",
      "metadata": {
        "id": "GYmzzP-Aolnc"
      },
      "source": [
        "## Работаем с листом таблицы\r\n"
      ]
    },
    {
      "cell_type": "code",
      "metadata": {
        "colab": {
          "base_uri": "https://localhost:8080/"
        },
        "id": "qw4nnAfwnxou",
        "outputId": "5e0c0cc2-4783-45a1-dabe-d4a0a2118dcb"
      },
      "source": [
        "print('\\nРаботаем с листом')\r\n",
        "print(table.worksheets())\r\n",
        "#worksheet = table.worksheet('list1')\r\n",
        "#table.del_worksheet(worksheet)\r\n",
        "try:\r\n",
        "  worksheet = table.worksheet('list1')\r\n",
        "except Exception as mistake:\r\n",
        "    print('\\n',mistake)\r\n",
        "    print(\"Необходимо создать лист\\n\")\r\n",
        "    worksheet = table.add_worksheet(\"list1\",100,100)\r\n",
        "print(table.worksheets())\r\n",
        "print(dir(worksheet))\r\n",
        "rows = worksheet.get_all_values()\r\n",
        "print(rows)\r\n",
        "value_sh = [[141,2],[3,4],[5,6]]\r\n",
        "print(value_sh)\r\n",
        "cell_list = 'A1'\r\n",
        "print(cell_list)\r\n",
        "worksheet.update(cell_list, value_sh)\r\n",
        "print(worksheet.get_all_values())\r\n",
        "time.sleep(30)\r\n",
        "%ll -lAF /content/drive/MyDrive/\"Colab Notebooks\"/table_test/\r\n",
        "os.listdir('/content/drive/MyDrive/Colab Notebooks/table_test/')\r\n",
        "!date"
      ],
      "execution_count": 31,
      "outputs": [
        {
          "output_type": "stream",
          "text": [
            "\n",
            "Работаем с листом\n",
            "[<Worksheet 'Sheet1' id:0>, <Worksheet 'list1' id:1539061466>]\n",
            "[<Worksheet 'Sheet1' id:0>, <Worksheet 'list1' id:1539061466>]\n",
            "['__class__', '__delattr__', '__dict__', '__dir__', '__doc__', '__eq__', '__format__', '__ge__', '__getattribute__', '__gt__', '__hash__', '__init__', '__init_subclass__', '__le__', '__lt__', '__module__', '__ne__', '__new__', '__reduce__', '__reduce_ex__', '__repr__', '__setattr__', '__sizeof__', '__str__', '__subclasshook__', '__weakref__', '_finder', '_list_cells', '_properties', 'acell', 'add_cols', 'add_protected_range', 'add_rows', 'append_row', 'append_rows', 'batch_get', 'batch_update', 'cell', 'clear', 'clear_basic_filter', 'clear_note', 'client', 'col_count', 'col_values', 'copy_to', 'delete_columns', 'delete_dimension', 'delete_row', 'delete_rows', 'duplicate', 'export', 'find', 'findall', 'format', 'freeze', 'frozen_col_count', 'frozen_row_count', 'get', 'get_all_records', 'get_all_values', 'id', 'insert_cols', 'insert_note', 'insert_row', 'insert_rows', 'merge_cells', 'range', 'resize', 'row_count', 'row_values', 'set_basic_filter', 'sort', 'spreadsheet', 'title', 'update', 'update_acell', 'update_cell', 'update_cells', 'update_index', 'update_note', 'update_title', 'updated', 'url']\n",
            "[['141', '2'], ['3', '4'], ['5', '6']]\n",
            "[[141, 2], [3, 4], [5, 6]]\n",
            "A1\n",
            "[['141', '2'], ['3', '4'], ['5', '6']]\n",
            "total 17\n",
            "drwx------ 2 root  4096 Feb 20 18:22 \u001b[0m\u001b[01;34m.ipynb_checkpoints\u001b[0m/\n",
            "-rw------- 1 root   151 Feb 23 20:58 table_01.gsheet\n",
            "-rw------- 1 root 12094 Feb 23 20:58 table_test.ipynb\n",
            "Tue Feb 23 20:59:23 MSK 2021\n"
          ],
          "name": "stdout"
        }
      ]
    }
  ]
}