{
  "nbformat": 4,
  "nbformat_minor": 0,
  "metadata": {
    "colab": {
      "name": "scatter.ipynb",
      "provenance": [],
      "collapsed_sections": [],
      "include_colab_link": true
    },
    "kernelspec": {
      "display_name": "Python 3",
      "name": "python3"
    }
  },
  "cells": [
    {
      "cell_type": "markdown",
      "metadata": {
        "id": "view-in-github",
        "colab_type": "text"
      },
      "source": [
        "<a href=\"https://colab.research.google.com/github/g00u00/colab/blob/main/scatter.ipynb\" target=\"_parent\"><img src=\"https://colab.research.google.com/assets/colab-badge.svg\" alt=\"Open In Colab\"/></a>"
      ]
    },
    {
      "cell_type": "markdown",
      "metadata": {
        "id": "UdRyKR44dcNI"
      },
      "source": [
        "# Представление в виде графиков\n",
        "[https://matplotlib.org/3.3.3/api/pyplot_summary.html](https://matplotlib.org/3.3.3/api/pyplot_summary.html)"
      ]
    },
    {
      "cell_type": "markdown",
      "metadata": {
        "id": "5WpBTOdyE0xN"
      },
      "source": [
        "## Монтируем диск"
      ]
    },
    {
      "cell_type": "code",
      "metadata": {
        "colab": {
          "base_uri": "https://localhost:8080/"
        },
        "id": "F1Vrq7FOWsNK",
        "outputId": "f51de253-9a25-4c5e-8c9a-085625d28fd4"
      },
      "source": [
        "from google.colab import drive\n",
        "drive.mount('/content/drive')"
      ],
      "execution_count": 22,
      "outputs": [
        {
          "output_type": "stream",
          "text": [
            "Drive already mounted at /content/drive; to attempt to forcibly remount, call drive.mount(\"/content/drive\", force_remount=True).\n"
          ],
          "name": "stdout"
        }
      ]
    },
    {
      "cell_type": "markdown",
      "metadata": {
        "id": "RkN48c7IGmTF"
      },
      "source": [
        "## Списки данных"
      ]
    },
    {
      "cell_type": "code",
      "metadata": {
        "id": "dyGMIrL6Gl1k"
      },
      "source": [
        "import numpy as np\r\n",
        "ys = 3 + np.random.rand(10)\r\n",
        "x = [x for x in range(len(ys))]"
      ],
      "execution_count": 23,
      "outputs": []
    },
    {
      "cell_type": "markdown",
      "metadata": {
        "id": "wCppCdaNGT9V"
      },
      "source": [
        "## Формировании графиков и надписей\r\n"
      ]
    },
    {
      "cell_type": "code",
      "metadata": {
        "colab": {
          "base_uri": "https://localhost:8080/",
          "height": 654
        },
        "id": "C4HZx7Gndbrh",
        "outputId": "b447c33e-f6d0-4394-e40e-86e48501c622"
      },
      "source": [
        "#https://matplotlib.org/3.3.3/api/pyplot_summary.html\n",
        "#import numpy as np\n",
        "#ys = 3 + np.random.rand(100)\n",
        "#x = [x for x in range(len(ys))]\n",
        "from matplotlib import pyplot as plt\n",
        "fig = plt.figure(figsize=(8,8),dpi=72)\n",
        "fig.legend()\n",
        "loc = 'lower center'\n",
        "#fig.legend(title = \"Рис.1. Зависимость прибыли от величины кредита\", title_fontsize=16, loc='lower center' )\n",
        "#plt.title(label='Рис.1. Зависимость прибыли от величины кредита', fontsize= 18, horizontalalignment='center')\n",
        "plt.plot(x,ys, 'g*--', label='line1', linewidth=1, markersize=3)\n",
        "plt.plot([1, 2, 3], [2, 4, 6], 'ro-', label='line2', linewidth=1, markersize=3)\n",
        "plt.xticks(fontsize=14)\n",
        "plt.xlabel('Величина кредита, руб',fontsize=14)\n",
        "plt.yticks(fontsize=14)\n",
        "plt.ylabel('Чистая прибыль, руб', fontsize=14)\n",
        "plt.grid()\n",
        "plt.legend(fontsize=14)\n",
        "#plt.fill_between(x, ys, 7, where=(ys > 6.5), facecolor='g', alpha=0.6)\n",
        "plt.show()\n",
        "print(\"\\n      Рис. Зависимсть прибыли от величины кредита\\n\\n\")\n",
        "#print(x)\n",
        "#print(ys)\n",
        "\n",
        "fig.savefig('/content/sample_data/scatter.png')\n",
        "#%ll -lAF /content/sample_data/\n",
        "fig.savefig('/content/drive/MyDrive/Colab Notebooks/plot/scatter.png')\n",
        "#%ll -lAF  /content/drive/MyDrive/'Colab Notebooks'/plot\n",
        "#!date"
      ],
      "execution_count": 24,
      "outputs": [
        {
          "output_type": "stream",
          "text": [
            "No handles with labels found to put in legend.\n"
          ],
          "name": "stderr"
        },
        {
          "output_type": "display_data",
          "data": {
            "image/png": "[encoded data removed]",
            "text/plain": [
              "<Figure size 576x576 with 1 Axes>"
            ]
          },
          "metadata": {
            "tags": [],
            "needs_background": "light"
          }
        },
        {
          "output_type": "stream",
          "text": [
            "\n",
            "      Рис. Зависимсть прибыли от величины кредита\n",
            "\n",
            "\n"
          ],
          "name": "stdout"
        }
      ]
    },
    {
      "cell_type": "markdown",
      "metadata": {
        "id": "mEwgG1KUJZx1"
      },
      "source": [
        "<img src=\"/content/sample_data/scatter.png\">"
      ]
    }
  ]
}