{
  "nbformat": 4,
  "nbformat_minor": 0,
  "metadata": {
    "colab": {
      "name": "plt_scatter.ipynb",
      "provenance": [],
      "authorship_tag": "ABX9TyMvfIDy0OR2DTnZd84+TNVF",
      "include_colab_link": true
    },
    "kernelspec": {
      "name": "python3",
      "display_name": "Python 3"
    }
  },
  "cells": [
    {
      "cell_type": "markdown",
      "metadata": {
        "id": "view-in-github",
        "colab_type": "text"
      },
      "source": [
        "<a href=\"https://colab.research.google.com/github/g00u00/colab/blob/main/plt_scatter_2021-03-23.ipynb\" target=\"_parent\"><img src=\"https://colab.research.google.com/assets/colab-badge.svg\" alt=\"Open In Colab\"/></a>"
      ]
    },
    {
      "cell_type": "code",
      "metadata": {
        "id": "owXosEBJm0VC"
      },
      "source": [
        "import numpy as np\n",
        "import os\n",
        "from matplotlib import pyplot as plt\n",
        "\n",
        "ys = 200 + np.random.randn(7)\n",
        "print(ys, sep=',',)\n",
        "x = [x for x in range(len(ys))]\n",
        "print(x)\n",
        "print(type(x))\n",
        "\n",
        "yz = [201.86508454, 200.92740682, 200.43188216, 201.48192017, 200.53357285, 199.5933559,  199.09593596]\n",
        "x = [0, 5, 4, 3, 4, 5, 6]\n",
        "plt.plot(x, ys, '-')\n",
        "plt.fill_between(x, ys, 195, where=(ys > 195), facecolor='g', alpha=0.6)\n",
        "plt.title(\"Sample Visualization\")\n",
        "plt.show()\n",
        "\n",
        "fig = plt.figure(figsize=(17,5), dpi=100)\n",
        "plt.scatter(x, ys,)\n",
        "plt.show()\n",
        "fig.savefig('./contentscatter.png')\n",
        "\n",
        "os.getcwd()\n",
        "os.listdir()"
      ],
      "execution_count": null,
      "outputs": []
    }
  ]
}